{
 "cells": [
  {
   "cell_type": "code",
   "execution_count": 1,
   "metadata": {
    "id": "fuESWpb2z4jT"
   },
   "outputs": [],
   "source": [
    "# Import libraries\n",
    "import os\n",
    "import glob\n",
    "import cv2\n",
    "import numpy as np\n",
    "from sklearn import preprocessing"
   ]
  },
  {
   "cell_type": "code",
   "execution_count": 2,
   "metadata": {},
   "outputs": [],
   "source": [
    "# Kernel sharpening\n",
    "sharpen_filter = np.array([\n",
    "    [0,-1,0],\n",
    "    [-1,5,-1],\n",
    "    [0,-1,0]\n",
    "])"
   ]
  },
  {
   "cell_type": "markdown",
   "metadata": {
    "id": "4GUwlyMD1Mp7"
   },
   "source": [
    "## **Data Training Preprocessing - Resizing, Sharpening, and Normalization**"
   ]
  },
  {
   "cell_type": "code",
   "execution_count": 3,
   "metadata": {
    "id": "MIHYwzZm02Yv"
   },
   "outputs": [],
   "source": [
    "train_img = []\n",
    "train_labels = []"
   ]
  },
  {
   "cell_type": "code",
   "execution_count": 4,
   "metadata": {
    "id": "UScVIrt41sfE"
   },
   "outputs": [
    {
     "name": "stdout",
     "output_type": "stream",
     "text": [
      "Aedes aegypti\n",
      "Aedes albopictus\n",
      "Culex quinquefasciatus\n"
     ]
    }
   ],
   "source": [
    "for dir_path in glob.glob('Split500/train/*'):\n",
    "  label = dir_path.split('\\\\')[-1]\n",
    "  print(label)\n",
    "  for img_path in glob.glob(os.path.join(dir_path, '*.jpg')):\n",
    "    img = cv2.imread(img_path)\n",
    "    # Resizing\n",
    "    img_resized = cv2.resize(img, (312, 312))\n",
    "    # Sharpening\n",
    "    img_sharpened = cv2.filter2D(img_resized, -1, sharpen_filter)\n",
    "    # Put the images and the labels into the lists\n",
    "    train_img.append(img_sharpened)\n",
    "    train_labels.append(label)"
   ]
  },
  {
   "cell_type": "code",
   "execution_count": 5,
   "metadata": {
    "colab": {
     "base_uri": "https://localhost:8080/"
    },
    "executionInfo": {
     "elapsed": 11,
     "status": "ok",
     "timestamp": 1686149216513,
     "user": {
      "displayName": "AMATUL NOOR DAMANIK TBA",
      "userId": "14136058854852971919"
     },
     "user_tz": -420
    },
    "id": "zupqw9kA4NEx",
    "outputId": "629a8723-a771-441b-e471-57dc9f46a601",
    "scrolled": false
   },
   "outputs": [
    {
     "data": {
      "text/plain": [
       "(1248, 312, 312, 3)"
      ]
     },
     "execution_count": 5,
     "metadata": {},
     "output_type": "execute_result"
    }
   ],
   "source": [
    "# change train_img[] into numpy array\n",
    "train_img = np.array(train_img)\n",
    "train_img.shape"
   ]
  },
  {
   "cell_type": "code",
   "execution_count": 6,
   "metadata": {
    "colab": {
     "base_uri": "https://localhost:8080/"
    },
    "executionInfo": {
     "elapsed": 5,
     "status": "ok",
     "timestamp": 1686149216513,
     "user": {
      "displayName": "AMATUL NOOR DAMANIK TBA",
      "userId": "14136058854852971919"
     },
     "user_tz": -420
    },
    "id": "QdfDGDR84i9y",
    "outputId": "bb2f16b1-0b4a-4698-aad2-67ffa9fdaa68"
   },
   "outputs": [
    {
     "data": {
      "text/plain": [
       "(1248,)"
      ]
     },
     "execution_count": 6,
     "metadata": {},
     "output_type": "execute_result"
    }
   ],
   "source": [
    "# change train_labels[] into numpy array\n",
    "train_labels = np.array(train_labels)\n",
    "train_labels.shape"
   ]
  },
  {
   "cell_type": "code",
   "execution_count": 7,
   "metadata": {
    "id": "WArAGGWP49hR"
   },
   "outputs": [],
   "source": [
    "# Normalizing the train images set\n",
    "train_img_normalized = train_img / 255.0"
   ]
  },
  {
   "cell_type": "markdown",
   "metadata": {
    "id": "sh1TJq3c4nP8"
   },
   "source": [
    "## **Data Testing Preprocessing - Resizing, Sharpening, and Normalization**"
   ]
  },
  {
   "cell_type": "code",
   "execution_count": 8,
   "metadata": {
    "id": "mxbkuLfi4tir"
   },
   "outputs": [],
   "source": [
    "test_img = []\n",
    "test_labels = []"
   ]
  },
  {
   "cell_type": "code",
   "execution_count": 9,
   "metadata": {
    "id": "S5jTRm0h42Hw"
   },
   "outputs": [
    {
     "name": "stdout",
     "output_type": "stream",
     "text": [
      "Aedes aegypti\n",
      "Aedes albopictus\n",
      "Culex quinquefasciatus\n"
     ]
    }
   ],
   "source": [
    "for dir_path in glob.glob('Split500/test/*'):\n",
    "  label_test = dir_path.split('\\\\')[-1]\n",
    "  print(label_test)\n",
    "  for img_path in glob.glob(os.path.join(dir_path, '*.jpg')):\n",
    "    img = cv2.imread(img_path)\n",
    "    # Resizing\n",
    "    img_resized = cv2.resize(img, (312, 312))\n",
    "    # Sharpening\n",
    "    img_sharpened = cv2.filter2D(img_resized, -1, sharpen_filter)\n",
    "    # Put the images and the labes into the lists\n",
    "    test_img.append(img_sharpened)\n",
    "    test_labels.append(label_test)"
   ]
  },
  {
   "cell_type": "code",
   "execution_count": 10,
   "metadata": {
    "colab": {
     "base_uri": "https://localhost:8080/"
    },
    "executionInfo": {
     "elapsed": 20,
     "status": "ok",
     "timestamp": 1686149257896,
     "user": {
      "displayName": "AMATUL NOOR DAMANIK TBA",
      "userId": "14136058854852971919"
     },
     "user_tz": -420
    },
    "id": "7NBh7cL267Hd",
    "outputId": "9f2de706-be79-481f-8ba4-60b3fe3f6c1e"
   },
   "outputs": [
    {
     "data": {
      "text/plain": [
       "(312, 312, 312, 3)"
      ]
     },
     "execution_count": 10,
     "metadata": {},
     "output_type": "execute_result"
    }
   ],
   "source": [
    "# change test_img[] into numpy array\n",
    "test_img = np.array(test_img)\n",
    "test_img.shape"
   ]
  },
  {
   "cell_type": "code",
   "execution_count": 11,
   "metadata": {
    "colab": {
     "base_uri": "https://localhost:8080/"
    },
    "executionInfo": {
     "elapsed": 16,
     "status": "ok",
     "timestamp": 1686149257896,
     "user": {
      "displayName": "AMATUL NOOR DAMANIK TBA",
      "userId": "14136058854852971919"
     },
     "user_tz": -420
    },
    "id": "GjrMLh2X7IHh",
    "outputId": "08cf8637-23d8-4690-d9c2-39efe3316bb2"
   },
   "outputs": [
    {
     "data": {
      "text/plain": [
       "(312,)"
      ]
     },
     "execution_count": 11,
     "metadata": {},
     "output_type": "execute_result"
    }
   ],
   "source": [
    "# change test_labels[] into numpy array\n",
    "test_labels = np.array(test_labels)\n",
    "test_labels.shape"
   ]
  },
  {
   "cell_type": "code",
   "execution_count": 12,
   "metadata": {
    "id": "9YPXterT7Xui"
   },
   "outputs": [],
   "source": [
    "# Normalizing the test images set\n",
    "test_img_normalized = test_img / 255.0"
   ]
  },
  {
   "cell_type": "markdown",
   "metadata": {
    "id": "bRx_C4pi8EUe"
   },
   "source": [
    "## **Changing the data labels into categorical**"
   ]
  },
  {
   "cell_type": "code",
   "execution_count": 13,
   "metadata": {
    "colab": {
     "base_uri": "https://localhost:8080/"
    },
    "executionInfo": {
     "elapsed": 13,
     "status": "ok",
     "timestamp": 1686149257897,
     "user": {
      "displayName": "AMATUL NOOR DAMANIK TBA",
      "userId": "14136058854852971919"
     },
     "user_tz": -420
    },
    "id": "iGGobRRj78oC",
    "outputId": "d1b29667-f25f-465c-fc17-3ba7e4654790"
   },
   "outputs": [
    {
     "data": {
      "text/plain": [
       "array([0, 0, 0, ..., 2, 2, 2], dtype=int64)"
      ]
     },
     "execution_count": 13,
     "metadata": {},
     "output_type": "execute_result"
    }
   ],
   "source": [
    "le = preprocessing.LabelEncoder()\n",
    "\n",
    "# The train set labels\n",
    "le.fit(train_labels)\n",
    "train_labels_encoded = le.transform(train_labels)\n",
    "train_labels_encoded"
   ]
  },
  {
   "cell_type": "code",
   "execution_count": 14,
   "metadata": {
    "id": "qNJDslYs8a8C"
   },
   "outputs": [
    {
     "data": {
      "text/plain": [
       "array([0, 0, 0, 0, 0, 0, 0, 0, 0, 0, 0, 0, 0, 0, 0, 0, 0, 0, 0, 0, 0, 0,\n",
       "       0, 0, 0, 0, 0, 0, 0, 0, 0, 0, 0, 0, 0, 0, 0, 0, 0, 0, 0, 0, 0, 0,\n",
       "       0, 0, 0, 0, 0, 0, 0, 0, 0, 0, 0, 0, 0, 0, 0, 0, 0, 0, 0, 0, 0, 0,\n",
       "       0, 0, 0, 0, 0, 0, 0, 0, 0, 0, 0, 0, 0, 0, 0, 0, 0, 0, 0, 0, 0, 0,\n",
       "       0, 0, 0, 0, 0, 0, 0, 0, 0, 0, 0, 0, 0, 0, 0, 0, 1, 1, 1, 1, 1, 1,\n",
       "       1, 1, 1, 1, 1, 1, 1, 1, 1, 1, 1, 1, 1, 1, 1, 1, 1, 1, 1, 1, 1, 1,\n",
       "       1, 1, 1, 1, 1, 1, 1, 1, 1, 1, 1, 1, 1, 1, 1, 1, 1, 1, 1, 1, 1, 1,\n",
       "       1, 1, 1, 1, 1, 1, 1, 1, 1, 1, 1, 1, 1, 1, 1, 1, 1, 1, 1, 1, 1, 1,\n",
       "       1, 1, 1, 1, 1, 1, 1, 1, 1, 1, 1, 1, 1, 1, 1, 1, 1, 1, 1, 1, 1, 1,\n",
       "       1, 1, 1, 1, 1, 1, 1, 1, 1, 1, 2, 2, 2, 2, 2, 2, 2, 2, 2, 2, 2, 2,\n",
       "       2, 2, 2, 2, 2, 2, 2, 2, 2, 2, 2, 2, 2, 2, 2, 2, 2, 2, 2, 2, 2, 2,\n",
       "       2, 2, 2, 2, 2, 2, 2, 2, 2, 2, 2, 2, 2, 2, 2, 2, 2, 2, 2, 2, 2, 2,\n",
       "       2, 2, 2, 2, 2, 2, 2, 2, 2, 2, 2, 2, 2, 2, 2, 2, 2, 2, 2, 2, 2, 2,\n",
       "       2, 2, 2, 2, 2, 2, 2, 2, 2, 2, 2, 2, 2, 2, 2, 2, 2, 2, 2, 2, 2, 2,\n",
       "       2, 2, 2, 2], dtype=int64)"
      ]
     },
     "execution_count": 14,
     "metadata": {},
     "output_type": "execute_result"
    }
   ],
   "source": [
    "# The test set labels\n",
    "le.fit(test_labels)\n",
    "test_labels_encoded = le.transform(test_labels)\n",
    "test_labels_encoded"
   ]
  },
  {
   "cell_type": "markdown",
   "metadata": {
    "id": "kh_D2L-ecOHR"
   },
   "source": [
    "## **Building the CNN's VGG16 model without top layers**"
   ]
  },
  {
   "cell_type": "code",
   "execution_count": 15,
   "metadata": {
    "id": "6BEuYkC18ss5"
   },
   "outputs": [],
   "source": [
    "# Import libraries\n",
    "import keras\n",
    "from keras.models import Sequential\n",
    "from keras.layers import Dense, Conv2D, MaxPool2D"
   ]
  },
  {
   "cell_type": "code",
   "execution_count": 16,
   "metadata": {
    "id": "tQ26J4QecNES"
   },
   "outputs": [
    {
     "name": "stdout",
     "output_type": "stream",
     "text": [
      "Model: \"sequential\"\n",
      "_________________________________________________________________\n",
      " Layer (type)                Output Shape              Param #   \n",
      "=================================================================\n",
      " conv2d (Conv2D)             (None, 312, 312, 64)      1792      \n",
      "                                                                 \n",
      " conv2d_1 (Conv2D)           (None, 312, 312, 64)      36928     \n",
      "                                                                 \n",
      " max_pooling2d (MaxPooling2D  (None, 156, 156, 64)     0         \n",
      " )                                                               \n",
      "                                                                 \n",
      " conv2d_2 (Conv2D)           (None, 156, 156, 128)     73856     \n",
      "                                                                 \n",
      " conv2d_3 (Conv2D)           (None, 156, 156, 128)     147584    \n",
      "                                                                 \n",
      " max_pooling2d_1 (MaxPooling  (None, 78, 78, 128)      0         \n",
      " 2D)                                                             \n",
      "                                                                 \n",
      " conv2d_4 (Conv2D)           (None, 78, 78, 256)       295168    \n",
      "                                                                 \n",
      " conv2d_5 (Conv2D)           (None, 78, 78, 256)       590080    \n",
      "                                                                 \n",
      " conv2d_6 (Conv2D)           (None, 78, 78, 256)       590080    \n",
      "                                                                 \n",
      " max_pooling2d_2 (MaxPooling  (None, 39, 39, 256)      0         \n",
      " 2D)                                                             \n",
      "                                                                 \n",
      " conv2d_7 (Conv2D)           (None, 39, 39, 512)       1180160   \n",
      "                                                                 \n",
      " conv2d_8 (Conv2D)           (None, 39, 39, 512)       2359808   \n",
      "                                                                 \n",
      " conv2d_9 (Conv2D)           (None, 39, 39, 512)       2359808   \n",
      "                                                                 \n",
      " max_pooling2d_3 (MaxPooling  (None, 19, 19, 512)      0         \n",
      " 2D)                                                             \n",
      "                                                                 \n",
      " conv2d_10 (Conv2D)          (None, 19, 19, 512)       2359808   \n",
      "                                                                 \n",
      " conv2d_11 (Conv2D)          (None, 19, 19, 512)       2359808   \n",
      "                                                                 \n",
      " conv2d_12 (Conv2D)          (None, 19, 19, 512)       2359808   \n",
      "                                                                 \n",
      " max_pooling2d_4 (MaxPooling  (None, 9, 9, 512)        0         \n",
      " 2D)                                                             \n",
      "                                                                 \n",
      "=================================================================\n",
      "Total params: 14,714,688\n",
      "Trainable params: 14,714,688\n",
      "Non-trainable params: 0\n",
      "_________________________________________________________________\n"
     ]
    }
   ],
   "source": [
    "FE_nonTop_model = Sequential()\n",
    "\n",
    "FE_nonTop_model.add(Conv2D (input_shape=(312, 312, 3), filters=64, kernel_size=(3,3), padding='same', activation='relu'))\n",
    "FE_nonTop_model.add(Conv2D (filters = 64, kernel_size=(3,3), padding=\"same\", activation=\"relu\"))\n",
    "FE_nonTop_model.add(MaxPool2D (pool_size=(2,2), strides=(2,2)))\n",
    "\n",
    "FE_nonTop_model.add(Conv2D (filters=128, kernel_size=(3,3), padding=\"same\", activation=\"relu\"))\n",
    "FE_nonTop_model.add(Conv2D (filters=128, kernel_size=(3,3), padding=\"same\", activation=\"relu\"))\n",
    "FE_nonTop_model.add(MaxPool2D (pool_size=(2,2), strides=(2,2)))\n",
    "\n",
    "FE_nonTop_model.add(Conv2D (filters=256, kernel_size=(3,3), padding=\"same\", activation=\"relu\"))\n",
    "FE_nonTop_model.add(Conv2D (filters=256, kernel_size=(3,3), padding=\"same\", activation=\"relu\"))\n",
    "FE_nonTop_model.add(Conv2D (filters=256, kernel_size=(3,3), padding=\"same\", activation=\"relu\"))\n",
    "FE_nonTop_model.add(MaxPool2D (pool_size=(2,2), strides=(2,2)))\n",
    "\n",
    "FE_nonTop_model.add(Conv2D (filters=512, kernel_size=(3,3), padding=\"same\", activation=\"relu\"))\n",
    "FE_nonTop_model.add(Conv2D (filters=512, kernel_size=(3,3), padding=\"same\", activation=\"relu\"))\n",
    "FE_nonTop_model.add(Conv2D (filters=512, kernel_size=(3,3), padding=\"same\", activation=\"relu\"))\n",
    "FE_nonTop_model.add(MaxPool2D (pool_size=(2,2),strides=(2,2)))\n",
    "\n",
    "FE_nonTop_model.add(Conv2D (filters=512, kernel_size=(3,3), padding=\"same\", activation=\"relu\"))\n",
    "FE_nonTop_model.add(Conv2D (filters=512, kernel_size=(3,3), padding=\"same\", activation=\"relu\"))\n",
    "FE_nonTop_model.add(Conv2D (filters=512, kernel_size=(3,3), padding=\"same\", activation=\"relu\"))\n",
    "FE_nonTop_model.add(MaxPool2D (pool_size=(2,2),strides=(2,2)))\n",
    "\n",
    "FE_nonTop_model.summary()"
   ]
  },
  {
   "cell_type": "code",
   "execution_count": 17,
   "metadata": {
    "id": "gRTWZVHQcm3R"
   },
   "outputs": [
    {
     "name": "stdout",
     "output_type": "stream",
     "text": [
      "Model: \"sequential\"\n",
      "_________________________________________________________________\n",
      " Layer (type)                Output Shape              Param #   \n",
      "=================================================================\n",
      " conv2d (Conv2D)             (None, 312, 312, 64)      1792      \n",
      "                                                                 \n",
      " conv2d_1 (Conv2D)           (None, 312, 312, 64)      36928     \n",
      "                                                                 \n",
      " max_pooling2d (MaxPooling2D  (None, 156, 156, 64)     0         \n",
      " )                                                               \n",
      "                                                                 \n",
      " conv2d_2 (Conv2D)           (None, 156, 156, 128)     73856     \n",
      "                                                                 \n",
      " conv2d_3 (Conv2D)           (None, 156, 156, 128)     147584    \n",
      "                                                                 \n",
      " max_pooling2d_1 (MaxPooling  (None, 78, 78, 128)      0         \n",
      " 2D)                                                             \n",
      "                                                                 \n",
      " conv2d_4 (Conv2D)           (None, 78, 78, 256)       295168    \n",
      "                                                                 \n",
      " conv2d_5 (Conv2D)           (None, 78, 78, 256)       590080    \n",
      "                                                                 \n",
      " conv2d_6 (Conv2D)           (None, 78, 78, 256)       590080    \n",
      "                                                                 \n",
      " max_pooling2d_2 (MaxPooling  (None, 39, 39, 256)      0         \n",
      " 2D)                                                             \n",
      "                                                                 \n",
      " conv2d_7 (Conv2D)           (None, 39, 39, 512)       1180160   \n",
      "                                                                 \n",
      " conv2d_8 (Conv2D)           (None, 39, 39, 512)       2359808   \n",
      "                                                                 \n",
      " conv2d_9 (Conv2D)           (None, 39, 39, 512)       2359808   \n",
      "                                                                 \n",
      " max_pooling2d_3 (MaxPooling  (None, 19, 19, 512)      0         \n",
      " 2D)                                                             \n",
      "                                                                 \n",
      " conv2d_10 (Conv2D)          (None, 19, 19, 512)       2359808   \n",
      "                                                                 \n",
      " conv2d_11 (Conv2D)          (None, 19, 19, 512)       2359808   \n",
      "                                                                 \n",
      " conv2d_12 (Conv2D)          (None, 19, 19, 512)       2359808   \n",
      "                                                                 \n",
      " max_pooling2d_4 (MaxPooling  (None, 9, 9, 512)        0         \n",
      " 2D)                                                             \n",
      "                                                                 \n",
      "=================================================================\n",
      "Total params: 14,714,688\n",
      "Trainable params: 0\n",
      "Non-trainable params: 14,714,688\n",
      "_________________________________________________________________\n"
     ]
    }
   ],
   "source": [
    "# Freeze all the convolution layers\n",
    "for layer in FE_nonTop_model.layers:\n",
    "  layer.trainable = False\n",
    "\n",
    "FE_nonTop_model.summary()"
   ]
  },
  {
   "cell_type": "markdown",
   "metadata": {
    "id": "EoRs1GUc9f6i"
   },
   "source": [
    "## **Building Random Forest Model**"
   ]
  },
  {
   "cell_type": "code",
   "execution_count": 18,
   "metadata": {
    "id": "495k3nQL9kTG"
   },
   "outputs": [],
   "source": [
    "# Import library\n",
    "from sklearn.ensemble import RandomForestClassifier"
   ]
  },
  {
   "cell_type": "code",
   "execution_count": 19,
   "metadata": {},
   "outputs": [],
   "source": [
    "# Building using the best hyperparameter that I got\n",
    "RF_model = RandomForestClassifier(n_estimators = 450, min_samples_leaf = 6, max_depth = 50,\n",
    "                                  bootstrap = False, random_state = 42)"
   ]
  },
  {
   "cell_type": "markdown",
   "metadata": {
    "id": "K7vH648FdIX4"
   },
   "source": [
    "## **Training Model**"
   ]
  },
  {
   "cell_type": "code",
   "execution_count": 20,
   "metadata": {
    "colab": {
     "base_uri": "https://localhost:8080/"
    },
    "executionInfo": {
     "elapsed": 23056,
     "status": "ok",
     "timestamp": 1686149287288,
     "user": {
      "displayName": "AMATUL NOOR DAMANIK TBA",
      "userId": "14136058854852971919"
     },
     "user_tz": -420
    },
    "id": "QVvwcvOxdMq3",
    "outputId": "f9e70f02-0ed3-4787-b3d0-d13d8a73e701"
   },
   "outputs": [
    {
     "name": "stdout",
     "output_type": "stream",
     "text": [
      "39/39 [==============================] - 472s 12s/step\n",
      "Wall time: 7min 53s\n"
     ]
    }
   ],
   "source": [
    "%%time\n",
    "# Feature extraction using VGG16\n",
    "train_nonTop = FE_nonTop_model.predict(train_img_normalized)"
   ]
  },
  {
   "cell_type": "code",
   "execution_count": 21,
   "metadata": {
    "id": "ZeVFF69NdaLY"
   },
   "outputs": [],
   "source": [
    "# Changing the feature into 1 dimension vector\n",
    "train_nonTop_ft = train_nonTop.reshape(train_nonTop.shape[0], -1)"
   ]
  },
  {
   "cell_type": "code",
   "execution_count": 22,
   "metadata": {},
   "outputs": [
    {
     "name": "stdout",
     "output_type": "stream",
     "text": [
      "Wall time: 58.6 s\n"
     ]
    }
   ],
   "source": [
    "%%time\n",
    "# Classify the feature using random forest\n",
    "train_nonTop_predict = RF_model.fit(train_nonTop_ft, train_labels_encoded)"
   ]
  },
  {
   "cell_type": "markdown",
   "metadata": {
    "id": "yg_K0gsZd2_p"
   },
   "source": [
    "## **Testing Model**"
   ]
  },
  {
   "cell_type": "code",
   "execution_count": 23,
   "metadata": {
    "colab": {
     "base_uri": "https://localhost:8080/"
    },
    "executionInfo": {
     "elapsed": 5130,
     "status": "ok",
     "timestamp": 1686149296320,
     "user": {
      "displayName": "AMATUL NOOR DAMANIK TBA",
      "userId": "14136058854852971919"
     },
     "user_tz": -420
    },
    "id": "vQIb0a4ceZ4Z",
    "outputId": "2da308d7-6e75-4618-a77b-45fc19a08731"
   },
   "outputs": [
    {
     "name": "stdout",
     "output_type": "stream",
     "text": [
      "10/10 [==============================] - 133s 14s/step\n",
      "Wall time: 2min 13s\n"
     ]
    }
   ],
   "source": [
    "%%time\n",
    "# Feature extraction using VGG16\n",
    "test_nonTop = FE_nonTop_model.predict(test_img_normalized)"
   ]
  },
  {
   "cell_type": "code",
   "execution_count": 24,
   "metadata": {
    "id": "MGrMWr4Oeury"
   },
   "outputs": [],
   "source": [
    "# Changing the feature into 1 dimension vector\n",
    "test_nonTop_ft = test_nonTop.reshape(test_nonTop.shape[0], -1)"
   ]
  },
  {
   "cell_type": "code",
   "execution_count": 25,
   "metadata": {
    "id": "1UI4lcooe54w"
   },
   "outputs": [
    {
     "name": "stdout",
     "output_type": "stream",
     "text": [
      "Wall time: 227 ms\n"
     ]
    }
   ],
   "source": [
    "%%time\n",
    "# Classify using random forest\n",
    "test_nonTop_predict = RF_model.predict(test_nonTop_ft)"
   ]
  },
  {
   "cell_type": "markdown",
   "metadata": {
    "id": "QfBZBkGLQnRB"
   },
   "source": [
    "## **Evaluating Model**"
   ]
  },
  {
   "cell_type": "code",
   "execution_count": 26,
   "metadata": {
    "id": "3prD3vvFQk3Z"
   },
   "outputs": [],
   "source": [
    "# Import libraries\n",
    "from sklearn import metrics\n",
    "from sklearn.metrics import confusion_matrix, ConfusionMatrixDisplay, classification_report\n",
    "import seaborn as sns"
   ]
  },
  {
   "cell_type": "code",
   "execution_count": 27,
   "metadata": {
    "colab": {
     "base_uri": "https://localhost:8080/"
    },
    "executionInfo": {
     "elapsed": 854,
     "status": "ok",
     "timestamp": 1686149297165,
     "user": {
      "displayName": "AMATUL NOOR DAMANIK TBA",
      "userId": "14136058854852971919"
     },
     "user_tz": -420
    },
    "id": "AfhGp0tcpAN-",
    "outputId": "3e48da63-6d55-49b1-c51d-f50ec6ef3d11"
   },
   "outputs": [
    {
     "name": "stdout",
     "output_type": "stream",
     "text": [
      "Akurasi =  0.9006410256410257\n"
     ]
    }
   ],
   "source": [
    "# Count accuracy of the test result\n",
    "print(\"Akurasi = \", metrics.accuracy_score(test_labels_encoded, test_nonTop_predict))"
   ]
  },
  {
   "cell_type": "code",
   "execution_count": 28,
   "metadata": {
    "scrolled": true
   },
   "outputs": [
    {
     "name": "stdout",
     "output_type": "stream",
     "text": [
      "              precision    recall  f1-score   support\n",
      "\n",
      "           0       0.81      0.98      0.88        86\n",
      "           1       0.89      0.92      0.91       101\n",
      "           2       1.00      0.83      0.91       125\n",
      "\n",
      "    accuracy                           0.90       312\n",
      "   macro avg       0.90      0.91      0.90       312\n",
      "weighted avg       0.91      0.90      0.90       312\n",
      "\n"
     ]
    }
   ],
   "source": [
    "# Evaluation of model prediction\n",
    "print(classification_report(test_nonTop_predict, test_labels_encoded))"
   ]
  },
  {
   "cell_type": "code",
   "execution_count": 29,
   "metadata": {
    "colab": {
     "base_uri": "https://localhost:8080/",
     "height": 482
    },
    "executionInfo": {
     "elapsed": 7,
     "status": "ok",
     "timestamp": 1686149297165,
     "user": {
      "displayName": "AMATUL NOOR DAMANIK TBA",
      "userId": "14136058854852971919"
     },
     "user_tz": -420
    },
    "id": "GgmRMzlOO1km",
    "outputId": "9c8bd9a7-970e-4529-d4c2-3e86bf8cc212"
   },
   "outputs": [
    {
     "data": {
      "text/plain": [
       "array([[ 84,   8,  12],\n",
       "       [  2,  93,   9],\n",
       "       [  0,   0, 104]], dtype=int64)"
      ]
     },
     "execution_count": 29,
     "metadata": {},
     "output_type": "execute_result"
    },
    {
     "data": {
      "image/png": "[encoded data removed]",
      "text/plain": [
       "<Figure size 432x288 with 2 Axes>"
      ]
     },
     "metadata": {
      "needs_background": "light"
     },
     "output_type": "display_data"
    }
   ],
   "source": [
    "# Confusion Matrix\n",
    "\n",
    "map_nonTop = confusion_matrix(test_labels_encoded, test_nonTop_predict)\n",
    "sns.heatmap(map_nonTop, annot = True)\n",
    "map_nonTop"
   ]
  }
 ],
 "metadata": {
  "accelerator": "GPU",
  "colab": {
   "authorship_tag": "ABX9TyMBxz47tPkPrPPjhg0H3ceS",
   "gpuType": "T4",
   "mount_file_id": "1jL1MmGT49ESVw2iDaWgsfpzusa95Y5lx",
   "provenance": []
  },
  "kernelspec": {
   "display_name": "Python 3",
   "language": "python",
   "name": "python3"
  },
  "language_info": {
   "codemirror_mode": {
    "name": "ipython",
    "version": 3
   },
   "file_extension": ".py",
   "mimetype": "text/x-python",
   "name": "python",
   "nbconvert_exporter": "python",
   "pygments_lexer": "ipython3",
   "version": "3.8.5"
  }
 },
 "nbformat": 4,
 "nbformat_minor": 1
}
